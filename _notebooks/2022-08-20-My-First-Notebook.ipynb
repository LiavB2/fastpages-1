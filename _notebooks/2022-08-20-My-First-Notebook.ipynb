{
  "cells": [
    {
      "cell_type": "markdown",
      "metadata": {
        "id": "EGJa7aI2K3zI"
      },
      "source": [
        "# My First Notebook\n",
        "\n",
        "> Sophia's first APCSP Jupyter notebook.\n",
        "\n",
        "- toc: true\n",
        "- badges: true\n",
        "- comments: true\n",
        "- categories: [setup]"
      ]
    },
    {
      "cell_type": "markdown",
      "metadata": {
        "id": "ROLLRPPZLOOw"
      },
      "source": [
        "## Welcome to my notebook!"
      ]
    },
    {
      "cell_type": "code",
      "execution_count": 1,
      "metadata": {
        "colab": {
          "base_uri": "https://localhost:8080/"
        },
        "id": "UDaZkfgULNJ5",
        "outputId": "786d9910-1a0f-40f3-dd41-b4f7b1810c24"
      },
      "outputs": [
        {
          "name": "stdout",
          "output_type": "stream",
          "text": [
            "Hello\n"
          ]
        }
      ],
      "source": [
        "print(\"Hello\")"
      ]
    }
  ],
  "metadata": {
    "colab": {
      "name": "Untitled1.ipynb",
      "provenance": []
    },
    "kernelspec": {
      "display_name": "Python 3.8.0 32-bit",
      "language": "python",
      "name": "python3"
    },
    "language_info": {
      "name": "python",
      "version": "3.8.0"
    },
    "vscode": {
      "interpreter": {
        "hash": "39fe022883dc482b3fb2c27f9385a8be2caa2768e91e1f50c0beef3e9334295f"
      }
    }
  },
  "nbformat": 4,
  "nbformat_minor": 0
}
