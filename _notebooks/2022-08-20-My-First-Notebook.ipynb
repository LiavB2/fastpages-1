{
  "nbformat": 4,
  "nbformat_minor": 0,
  "metadata": {
    "colab": {
      "name": "Untitled1.ipynb",
      "provenance": []
    },
    "kernelspec": {
      "name": "python3",
      "display_name": "Python 3"
    },
    "language_info": {
      "name": "python"
    }
  },
  "cells": [
    {
      "cell_type": "markdown",
      "source": [
        "# My First Notebook\n",
        "\n",
        "> Sophia's first APCSP Jupyter notebook.\n",
        "\n",
        "- toc: true\n",
        "- badges: true\n",
        "- comments: true\n",
        "- categories: setup"
      ],
      "metadata": {
        "id": "EGJa7aI2K3zI"
      }
    },
    {
      "cell_type": "markdown",
      "source": [
        "## Welcome to my notebook!"
      ],
      "metadata": {
        "id": "ROLLRPPZLOOw"
      }
    },
    {
      "cell_type": "code",
      "source": [
        "Hello world!"
      ],
      "metadata": {
        "id": "eY0JVPnzLWCA"
      },
      "execution_count": null,
      "outputs": []
    },
    {
      "cell_type": "code",
      "source": [
        "print(\"Hello\")"
      ],
      "metadata": {
        "id": "UDaZkfgULNJ5"
      },
      "execution_count": null,
      "outputs": []
    }
  ]
}