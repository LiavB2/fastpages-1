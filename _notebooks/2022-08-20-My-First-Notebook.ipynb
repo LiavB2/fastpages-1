{
  "nbformat": 4,
  "nbformat_minor": 0,
  "metadata": {
    "colab": {
      "name": "Untitled1.ipynb",
      "provenance": []
    },
    "kernelspec": {
      "name": "python3",
      "display_name": "Python 3"
    },
    "language_info": {
      "name": "python"
    }
  },
  "cells": [
    {
      "cell_type": "markdown",
      "source": [
        "# My First Notebook\n",
        "\n",
        "> Sophia's first APCSP Jupyter notebook.\n",
        "\n",
        "- toc: true\n",
        "- badges: true\n",
        "- comments: true\n",
        "- categories: setup"
      ],
      "metadata": {
        "id": "EGJa7aI2K3zI"
      }
    },
    {
      "cell_type": "markdown",
      "source": [
        "## Welcome to my notebook!"
      ],
      "metadata": {
        "id": "ROLLRPPZLOOw"
      }
    },
    {
      "cell_type": "code",
      "source": [
        "print(\"Hello\")"
      ],
      "metadata": {
        "colab": {
          "base_uri": "https://localhost:8080/"
        },
        "id": "UDaZkfgULNJ5",
        "outputId": "786d9910-1a0f-40f3-dd41-b4f7b1810c24"
      },
      "execution_count": 1,
      "outputs": [
        {
          "output_type": "stream",
          "name": "stdout",
          "text": [
            "Hello\n"
          ]
        }
      ]
    }
  ]
}