{
  "cells": [
    {
      "cell_type": "markdown",
      "metadata": {
        "id": "EGJa7aI2K3zI"
      },
      "source": [
        "# My First Notebook\n",
        "\n",
        "> Sophia's first APCSP Jupyter notebook.\n",
        "\n",
        "- toc: true\n",
        "- badges: true\n",
        "- comments: true\n",
        "- categories: [week0]"
      ]
    },
    {
      "cell_type": "markdown",
      "metadata": {
        "id": "ROLLRPPZLOOw"
      },
      "source": [
        "## Welcome to my notebook!"
      ]
    },
    {
      "cell_type": "code",
      "execution_count": 1,
      "metadata": {
        "colab": {
          "base_uri": "https://localhost:8080/"
        },
        "id": "UDaZkfgULNJ5",
        "outputId": "786d9910-1a0f-40f3-dd41-b4f7b1810c24"
      },
      "outputs": [
        {
          "name": "stdout",
          "output_type": "stream",
          "text": [
            "Hello\n"
          ]
        }
      ],
      "source": [
        "print(\"Hello\")"
      ]
    }
  ],
  "metadata": {
    "colab": {
      "name": "Untitled1.ipynb",
      "provenance": []
    },
    "kernelspec": {
      "display_name": "Python 3.8.10 64-bit",
      "language": "python",
      "name": "python3"
    },
    "language_info": {
      "name": "python",
      "version": "3.8.10"
    },
    "vscode": {
      "interpreter": {
        "hash": "31f2aee4e71d21fbe5cf8b01ff0e069b9275f58929596ceb00d14d90e3e16cd6"
      }
    }
  },
  "nbformat": 4,
  "nbformat_minor": 0
}
